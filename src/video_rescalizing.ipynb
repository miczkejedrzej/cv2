{
 "cells": [
  {
   "cell_type": "code",
   "execution_count": null,
   "metadata": {},
   "outputs": [],
   "source": [
    "import cv2\n",
    "'''resizing the image . downscaling the resolution'''\n",
    "input_video_path = \"../videos/gameplay.mp4\"\n",
    "output_video_path = \"../videos/resized_gameplay_3.mp4\"\n",
    "\n",
    "video = cv2.VideoCapture(input_video_path)\n",
    "\n",
    "if not video.isOpened():\n",
    "    print(\"Error opening the video file\")\n",
    "    exit()\n",
    "\n",
    "# Get original video dimensions and scale\n",
    "initial_width = int(video.get(cv2.CAP_PROP_FRAME_WIDTH))\n",
    "initial_height = int(video.get(cv2.CAP_PROP_FRAME_HEIGHT))\n",
    "scale_percent = 60  # Scale down to 40% of the original size\n",
    "# new_width = int(initial_width * scale_percent / 100)\n",
    "# new_height = int(initial_height * scale_percent / 100)\n",
    "\n",
    "# Define VideoWriter\n",
    "fourcc = cv2.VideoWriter_fourcc(*'mp4v')\n",
    "fps = video.get(cv2.CAP_PROP_FPS)  # Get the original FPS\n",
    "out = cv2.VideoWriter(output_video_path, fourcc, fps, (512,512))\n",
    "\n",
    "print(f\"Resizing video to {512}x{512}...\")\n",
    "\n",
    "while True:\n",
    "    ret, frame = video.read()\n",
    "    if not ret:\n",
    "        print(\"Video processing complete.\")\n",
    "        break\n",
    "\n",
    "    # Resize the frame\n",
    "    resized_frame = cv2.resize(frame, (512,512), interpolation=cv2.INTER_AREA)\n",
    "    \n",
    "    # Write the resized frame to the output\n",
    "    out.write(resized_frame)\n",
    "\n",
    "# Release resources\n",
    "video.release()\n",
    "out.release()\n",
    "cv2.destroyAllWindows()\n",
    "print(f\"Resized video saved to {output_video_path}\")\n"
   ]
  }
 ],
 "metadata": {
  "kernelspec": {
   "display_name": "Python 3",
   "language": "python",
   "name": "python3"
  },
  "language_info": {
   "name": "python",
   "version": "3.11.9"
  }
 },
 "nbformat": 4,
 "nbformat_minor": 2
}
