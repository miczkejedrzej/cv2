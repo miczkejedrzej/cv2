{
 "cells": [
  {
   "cell_type": "markdown",
   "metadata": {},
   "source": [
    "# here we perform the board annotation"
   ]
  },
  {
   "cell_type": "code",
   "execution_count": 30,
   "metadata": {},
   "outputs": [
    {
     "name": "stdout",
     "output_type": "stream",
     "text": [
      "Original Dimensions :  (1847, 2426, 3)\n"
     ]
    }
   ],
   "source": [
    "\n",
    "\n",
    "import pickle\n",
    "import cv2 \n",
    "import numpy as np\n",
    "current_polygon = []\n",
    "\n",
    "img = cv2.imread('../images/board_image.jpg')\n",
    "object_class = {}\n",
    "\n",
    "print('Original Dimensions : ',img.shape)\n",
    "\n",
    "scale_percent = 40 # percent of original size\n",
    "width = int(img.shape[1] * scale_percent / 100)\n",
    "height = int(img.shape[0] * scale_percent / 100)\n",
    "dim = (width, height)\n",
    " \n",
    "# resize image\n",
    "img_resized= cv2.resize(img, dim, interpolation = cv2.INTER_AREA)\n",
    "\n",
    "img = img_resized\n",
    "\n",
    "\n",
    "def mousePoints(event, x, y, flags, params):\n",
    "    if event == cv2.EVENT_LBUTTONDOWN:\n",
    "        current_polygon.append([x, y])\n",
    "\n",
    "\n",
    "while True:\n",
    "    for point in current_polygon:\n",
    "        cv2.circle(img, point, 7, (0, 0, 255), cv2.FILLED)\n",
    "\n",
    "    pts = np.array(current_polygon, np.int32).reshape((-1, 1, 2))\n",
    "    img = cv2.polylines(img, [pts], True, (0, 255, 0), 2)\n",
    "\n",
    "    cv2.imshow(\"Image\", img)\n",
    "    cv2.setMouseCallback(\"Image\", mousePoints)\n",
    "    key = cv2.waitKey(1)\n",
    "\n",
    "    if key == ord(\"w\"):\n",
    "        given_class = input(\"Enter category\")\n",
    "        if given_class not in object_class.keys():\n",
    "            object_class[given_class] = [current_polygon]\n",
    "        else:\n",
    "            object_class[given_class].append(current_polygon)\n",
    "        current_polygon = []\n",
    "        # img = cv2.imread('../images/board_image.jpg')\n",
    "        # img =  cv2.resize(img, dim, interpolation = cv2.INTER_AREA)\n",
    "        \n",
    "    if key == ord(\"b\"):\n",
    "        with open('../resources/annotations.pkl', 'wb') as f:\n",
    "            pickle.dump(object_class, f)\n",
    "        cv2.destroyAllWindows()\n",
    "        break"
   ]
  }
 ],
 "metadata": {
  "kernelspec": {
   "display_name": "venv",
   "language": "python",
   "name": "python3"
  },
  "language_info": {
   "codemirror_mode": {
    "name": "ipython",
    "version": 3
   },
   "file_extension": ".py",
   "mimetype": "text/x-python",
   "name": "python",
   "nbconvert_exporter": "python",
   "pygments_lexer": "ipython3",
   "version": "3.11.9"
  }
 },
 "nbformat": 4,
 "nbformat_minor": 2
}
